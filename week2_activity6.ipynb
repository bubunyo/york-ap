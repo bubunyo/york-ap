{
 "cells": [
  {
   "cell_type": "code",
   "execution_count": 7,
   "id": "2d906e18-a3ac-4452-9734-4b48eb14baf3",
   "metadata": {},
   "outputs": [],
   "source": [
    "import json\n",
    "import pymongo"
   ]
  },
  {
   "cell_type": "code",
   "execution_count": 79,
   "id": "3c9c0b6e-53c5-4b85-98f2-386ae577a4b8",
   "metadata": {},
   "outputs": [
    {
     "name": "stdout",
     "output_type": "stream",
     "text": [
      "The full name of anyone over 25:\n",
      "Mrs. Lisa Melanie Penny\n",
      "Mr. Lorenzo Ruelle Garlen Dubois\n",
      "Mr. Tanveer Vihaan Patel\n"
     ]
    }
   ],
   "source": [
    "client = pymongo.MongoClient(\"mongodb://localhost:27017/\")\n",
    "\n",
    "\n",
    "client.list_database_names()\n",
    "\n",
    "db = client[\"w2_a6_2\"]\n",
    "collection = db[\"students\"]\n",
    "\n",
    "file = open(\"People.json\", \"r\")\n",
    "data = json.load(file)\n",
    "file.close()\n",
    "students = data[\"students\"]\n",
    "# collection.insert_many(students)\n",
    "\n",
    "# 1\n",
    "print(\"The full name of anyone over 25:\")\n",
    "res = collection.find({\"age\":{\"$gt\":25}},{\"_id\":0, \"fullName\":1})\n",
    "for r in res:\n",
    "    print(f\"{r['fullName']['title']}. {r['fullName']['first']} {\" \".join(r['fullName']['other'])} {r['fullName']['surname']}\")"
   ]
  },
  {
   "cell_type": "code",
   "execution_count": 80,
   "id": "d1d4a286-dc23-44fb-999b-0f20714080f5",
   "metadata": {},
   "outputs": [
    {
     "name": "stdout",
     "output_type": "stream",
     "text": [
      "\n",
      "The id of anyone who does not have any middle names:\n",
      "546854\n"
     ]
    }
   ],
   "source": [
    "# 2\n",
    "print(\"\\nThe id of anyone who does not have any middle names:\")\n",
    "res = collection.find({\"fullName.other\":{\"$elemMatch\":{\"$eq\": None}}},{\"_id\":0, \"id\":1})\n",
    "for r in res:\n",
    "    print(f\"{r['id']}\")"
   ]
  },
  {
   "cell_type": "code",
   "execution_count": 88,
   "id": "d74dae99-5dd9-4423-8025-7bb6da0c83c2",
   "metadata": {},
   "outputs": [
    {
     "name": "stdout",
     "output_type": "stream",
     "text": [
      "\n",
      "Count how many men and how many women (separately) are not living in Tokyo:\n",
      "Men not living in Tokyo: 2\n",
      "Women not living in Tokyo: 2\n"
     ]
    }
   ],
   "source": [
    "# 3\n",
    "print(\"\\nCount how many men and how many women (separately) are not living in Tokyo:\")\n",
    "res = collection.count_documents({\"$and\":[\n",
    "    {\"fullName.title\": {\"$eq\":\"Mr\"}},\n",
    "    {\"city\":{\"$ne\":\"Tokyo\"}},    \n",
    "]})\n",
    "print(f\"Men not living in Tokyo: {res}\")\n",
    "\n",
    "res = collection.count_documents({\"$and\":[\n",
    "    {\"fullName.title\": {\"$ne\":\"Mr\"}},\n",
    "    {\"city\":{\"$ne\":\"Tokyo\"}},    \n",
    "]})\n",
    "print(f\"Women not living in Tokyo: {res}\")"
   ]
  },
  {
   "cell_type": "code",
   "execution_count": null,
   "id": "63e6ad37-076f-4afc-85c5-1bd261de989a",
   "metadata": {},
   "outputs": [],
   "source": []
  }
 ],
 "metadata": {
  "kernelspec": {
   "display_name": "venv",
   "language": "python",
   "name": "venv"
  },
  "language_info": {
   "codemirror_mode": {
    "name": "ipython",
    "version": 3
   },
   "file_extension": ".py",
   "mimetype": "text/x-python",
   "name": "python",
   "nbconvert_exporter": "python",
   "pygments_lexer": "ipython3",
   "version": "3.13.0"
  }
 },
 "nbformat": 4,
 "nbformat_minor": 5
}
