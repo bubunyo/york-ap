{
 "cells": [
  {
   "cell_type": "code",
   "execution_count": 1,
   "id": "75a011f0-5ecd-4322-a255-639321f25682",
   "metadata": {},
   "outputs": [
    {
     "name": "stdout",
     "output_type": "stream",
     "text": [
      "hello, world\n"
     ]
    }
   ],
   "source": [
    "print(\"hello, world\")"
   ]
  },
  {
   "cell_type": "code",
   "execution_count": 5,
   "id": "9d1b60e6-6f40-49f6-981a-cd7496a9a212",
   "metadata": {},
   "outputs": [],
   "source": [
    "b= [4,9,80]"
   ]
  },
  {
   "cell_type": "code",
   "execution_count": 8,
   "id": "700969e6-cfd7-4423-8178-0ab30b877991",
   "metadata": {},
   "outputs": [
    {
     "data": {
      "text/plain": [
       "\u001b[0;31mType:\u001b[0m        list\n",
       "\u001b[0;31mString form:\u001b[0m [4, 9, 80]\n",
       "\u001b[0;31mLength:\u001b[0m      3\n",
       "\u001b[0;31mDocstring:\u001b[0m  \n",
       "Built-in mutable sequence.\n",
       "\n",
       "If no argument is given, the constructor creates a new empty list.\n",
       "The argument must be an iterable if specified."
      ]
     },
     "metadata": {},
     "output_type": "display_data"
    }
   ],
   "source": [
    "b?"
   ]
  },
  {
   "cell_type": "code",
   "execution_count": 9,
   "id": "86e13e95-13ba-402e-95be-c694c3849beb",
   "metadata": {},
   "outputs": [],
   "source": [
    "import numpy as np"
   ]
  },
  {
   "cell_type": "code",
   "execution_count": 10,
   "id": "7255266f-136c-4d35-a93a-dc574acebc6c",
   "metadata": {},
   "outputs": [
    {
     "data": {
      "text/plain": [
       "np.__loader__\n",
       "np.load\n",
       "np.loadtxt"
      ]
     },
     "metadata": {},
     "output_type": "display_data"
    }
   ],
   "source": [
    "np.*load*?"
   ]
  },
  {
   "cell_type": "code",
   "execution_count": 12,
   "id": "4a20bd35-fc6a-46c1-a776-5a3350435371",
   "metadata": {},
   "outputs": [],
   "source": [
    "data = {i : np.random.randn() for i in range(7)}"
   ]
  },
  {
   "cell_type": "code",
   "execution_count": 13,
   "id": "713d7475-bbf4-41b2-9ebe-212f816737a2",
   "metadata": {},
   "outputs": [
    {
     "data": {
      "text/plain": [
       "{0: 0.9529962448724452,\n",
       " 1: -0.4015699311980435,\n",
       " 2: -0.23521039098185753,\n",
       " 3: 0.9215014346310118,\n",
       " 4: -1.069263686088703,\n",
       " 5: 0.321983743850462,\n",
       " 6: 0.09738310258492665}"
      ]
     },
     "execution_count": 13,
     "metadata": {},
     "output_type": "execute_result"
    }
   ],
   "source": [
    "data"
   ]
  },
  {
   "cell_type": "code",
   "execution_count": 16,
   "id": "47c84916-4980-4067-9059-10983af2c295",
   "metadata": {},
   "outputs": [
    {
     "data": {
      "text/plain": [
       "\u001b[0;31mType:\u001b[0m        dict\n",
       "\u001b[0;31mString form:\u001b[0m {0: 0.9529962448724452, 1: -0.4015699311980435, 2: -0.23521039098185753, 3: 0.9215014346310118, 4: -1.069263686088703, 5: 0.321983743850462, 6: 0.09738310258492665}\n",
       "\u001b[0;31mLength:\u001b[0m      7\n",
       "\u001b[0;31mDocstring:\u001b[0m  \n",
       "dict() -> new empty dictionary\n",
       "dict(mapping) -> new dictionary initialized from a mapping object's\n",
       "    (key, value) pairs\n",
       "dict(iterable) -> new dictionary initialized as if via:\n",
       "    d = {}\n",
       "    for k, v in iterable:\n",
       "        d[k] = v\n",
       "dict(**kwargs) -> new dictionary initialized with the name=value pairs\n",
       "    in the keyword argument list.  For example:  dict(one=1, two=2)"
      ]
     },
     "metadata": {},
     "output_type": "display_data"
    }
   ],
   "source": [
    "data?"
   ]
  },
  {
   "cell_type": "code",
   "execution_count": 1,
   "id": "c3401bb3-d7c2-4da2-baba-ffebc5e3e787",
   "metadata": {},
   "outputs": [],
   "source": [
    "fname = \"Kidd\""
   ]
  },
  {
   "cell_type": "code",
   "execution_count": 2,
   "id": "672a6b68-d0ed-49cd-92dc-2b2965c87d4b",
   "metadata": {},
   "outputs": [],
   "source": [
    "lname = \"Bubu\""
   ]
  },
  {
   "cell_type": "code",
   "execution_count": 3,
   "id": "efa7c949-ab2b-4240-8ca3-43309dd124c9",
   "metadata": {},
   "outputs": [
    {
     "data": {
      "text/plain": [
       "'Kidd'"
      ]
     },
     "execution_count": 3,
     "metadata": {},
     "output_type": "execute_result"
    }
   ],
   "source": [
    "fname"
   ]
  },
  {
   "cell_type": "code",
   "execution_count": 4,
   "id": "475fb0f1-677d-4a92-8f19-ba143a5ed207",
   "metadata": {},
   "outputs": [
    {
     "data": {
      "text/plain": [
       "'My first name is Kidd and my lastname is Bubu'"
      ]
     },
     "execution_count": 4,
     "metadata": {},
     "output_type": "execute_result"
    }
   ],
   "source": [
    "f\"My first name is {fname} and my lastname is {lname}\""
   ]
  },
  {
   "cell_type": "code",
   "execution_count": 5,
   "id": "fc2e00dc-497c-4101-a704-b7d98e18f66d",
   "metadata": {},
   "outputs": [
    {
     "name": "stdin",
     "output_type": "stream",
     "text": [
      "Name:  Kidd Bubu\n"
     ]
    },
    {
     "data": {
      "text/plain": [
       "'Kidd Bubu'"
      ]
     },
     "execution_count": 5,
     "metadata": {},
     "output_type": "execute_result"
    }
   ],
   "source": [
    "input(\"Name: \")"
   ]
  },
  {
   "cell_type": "code",
   "execution_count": 6,
   "id": "5109fcbf-a97d-4afa-8b3e-140e61289b3a",
   "metadata": {},
   "outputs": [
    {
     "name": "stdin",
     "output_type": "stream",
     "text": [
      "Name:  Kidd Bubu\n"
     ]
    }
   ],
   "source": [
    "name = input(\"Name: \")"
   ]
  },
  {
   "cell_type": "code",
   "execution_count": 7,
   "id": "5b4b8bd3-fa47-4733-8ce9-e0739d5e2d04",
   "metadata": {},
   "outputs": [
    {
     "data": {
      "text/plain": [
       "'Kidd Bubu'"
      ]
     },
     "execution_count": 7,
     "metadata": {},
     "output_type": "execute_result"
    }
   ],
   "source": [
    "name"
   ]
  },
  {
   "cell_type": "code",
   "execution_count": 9,
   "id": "5e76e6b2-86d9-4b10-b8a0-cef51551dc5a",
   "metadata": {},
   "outputs": [
    {
     "data": {
      "text/plain": [
       "'Kidd Bubu'"
      ]
     },
     "execution_count": 9,
     "metadata": {},
     "output_type": "execute_result"
    }
   ],
   "source": [
    "name"
   ]
  },
  {
   "cell_type": "code",
   "execution_count": null,
   "id": "e47e69bb-8b7b-45ab-a379-4d0a19855cb1",
   "metadata": {},
   "outputs": [],
   "source": []
  }
 ],
 "metadata": {
  "kernelspec": {
   "display_name": "Python 3 (ipykernel)",
   "language": "python",
   "name": "python3"
  },
  "language_info": {
   "codemirror_mode": {
    "name": "ipython",
    "version": 3
   },
   "file_extension": ".py",
   "mimetype": "text/x-python",
   "name": "python",
   "nbconvert_exporter": "python",
   "pygments_lexer": "ipython3",
   "version": "3.12.7"
  }
 },
 "nbformat": 4,
 "nbformat_minor": 5
}
