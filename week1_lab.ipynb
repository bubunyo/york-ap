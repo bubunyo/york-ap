{
 "cells": [
  {
   "cell_type": "raw",
   "id": "dbc08be6-adc6-4c5e-b364-ab43b747a5be",
   "metadata": {},
   "source": [
    "[AP] Week 1 Lab"
   ]
  },
  {
   "cell_type": "code",
   "execution_count": 43,
   "id": "e9e35f52-93cb-49df-80b1-76e7051fd19e",
   "metadata": {},
   "outputs": [
    {
     "name": "stdin",
     "output_type": "stream",
     "text": [
      "Enter Number:  13\n"
     ]
    },
    {
     "name": "stdout",
     "output_type": "stream",
     "text": [
      "The even timetable for 13 is:\n",
      "        2  times 13 is 26\n",
      "        4  times 13 is 52\n",
      "        6  times 13 is 78\n",
      "        8  times 13 is 104\n",
      "        10 times 13 is 130\n",
      "        12 times 13 is 156\n"
     ]
    },
    {
     "name": "stdin",
     "output_type": "stream",
     "text": [
      "Do you want to continue? [y/n]: n\n"
     ]
    }
   ],
   "source": [
    "# Ex 1 - Times Output\n",
    "while True:\n",
    "    while True:\n",
    "        inputNum = input(\"Enter Number: \")\n",
    "        if inputNum.isdigit():\n",
    "            n = int(inputNum)\n",
    "            break\n",
    "        else:\n",
    "            print(\"Invalid number, try again.\")\n",
    "    limit = n+1 if n<20 else 21\n",
    "    width = 1 if n<10 else 2\n",
    "    print(f\"The even timetable for {n} is:\")\n",
    "    for i in range(2,limit,2):\n",
    "        print(f\"        {str(i).ljust(width)} times {n} is {i*n}\")\n",
    "    while True:\n",
    "        opt = input(\"Do you want to continue? [y/n]:\")\n",
    "        if opt == \"n\" or opt == \"y\":\n",
    "            break\n",
    "        else: \n",
    "            print(\"Invalid input, try again.\")\n",
    "    if opt == \"n\":\n",
    "        break    "
   ]
  },
  {
   "cell_type": "code",
   "execution_count": 93,
   "id": "f9c22e7a-99b7-49de-af67-75a1a8f0791d",
   "metadata": {},
   "outputs": [
    {
     "name": "stdout",
     "output_type": "stream",
     "text": [
      "Select Option:\n",
      "1. Left\n",
      "2. Right\n",
      "3. Diamond\n"
     ]
    },
    {
     "name": "stdin",
     "output_type": "stream",
     "text": [
      "Option:  2\n",
      "Enter Symbol:  ?\n",
      "Enter Size:  23\n"
     ]
    },
    {
     "name": "stdout",
     "output_type": "stream",
     "text": [
      "                         ?\n",
      "                        ??\n",
      "                       ???\n",
      "                      ????\n",
      "                     ?????\n",
      "                    ??????\n",
      "                   ???????\n",
      "                  ????????\n",
      "                 ?????????\n",
      "                ??????????\n",
      "               ???????????\n",
      "              ????????????\n",
      "             ?????????????\n",
      "            ??????????????\n",
      "           ???????????????\n",
      "          ????????????????\n",
      "         ?????????????????\n",
      "        ??????????????????\n",
      "       ???????????????????\n",
      "      ????????????????????\n",
      "     ?????????????????????\n",
      "    ??????????????????????\n",
      "   ???????????????????????\n",
      "Right-sided\n"
     ]
    }
   ],
   "source": [
    "# Ex 1 - Iteration\n",
    "numStars = 4 ;   \n",
    "\n",
    "while True:\n",
    "    print(\"Select Option:\")\n",
    "    print(\"1. Left\")\n",
    "    print(\"2. Right\")\n",
    "    print(\"3. Diamond\")\n",
    "    opt = input(\"Option: \")\n",
    "    if not opt.isdigit():\n",
    "        print(\"Invalid Option.\")\n",
    "        continue\n",
    "    opt = int(opt)\n",
    "    if opt<1 or opt>3:\n",
    "        print(\"Invalid Option.\")\n",
    "        continue\n",
    "    break\n",
    "\n",
    "sym = input(\"Enter Symbol: \")\n",
    "\n",
    "while True:\n",
    "    numStars = input(\"Enter Size: \")\n",
    "    if not numStars.isdigit():\n",
    "        print(\"Invalid Option.\")\n",
    "        continue\n",
    "    numStars = int(numStars)\n",
    "    break\n",
    "\n",
    "match(opt):\n",
    "    case 1:\n",
    "        padding = 4 if size<4 else size\n",
    "        for i in range(1, numStars+1):  \n",
    "            print(f\"{' '*padding}{sym*i}\")\n",
    "        print(\"Left-sided\")\n",
    "    case 2:\n",
    "        padding = 3 if size<4 else size\n",
    "        for i in range(1, numStars+1):  \n",
    "            print(f\"{' '*(numStars-i+padding)}{sym*i}\")\n",
    "        print(\"Right-sided\")\n",
    "    case 3:\n",
    "        numStars = numStars if numStars%2 == 1 else numStars+1\n",
    "        padding = 5 if size<5 else size\n",
    "        for i in range(1, numStars+1,2):  \n",
    "            print(f\"{' '*(((numStars-i)//2)+padding)}{sym*i}\")\n",
    "        for i in range(numStars-2,0,-2):\n",
    "            print(f\"{' '*(((numStars-i)//2)+padding)}{sym*i}\")\n",
    "        print(f\"{' '*(((numStars-i)//2)+padding-3)}Diamond\")\n",
    "\n",
    "\n",
    "# TASK: A more compact version of this loop can be achieved in Python \n",
    "# using a single loop and a special feature of the print statement.\n",
    "# See if you can find out how this is achieved. \n"
   ]
  },
  {
   "cell_type": "code",
   "execution_count": null,
   "id": "6bf0fbc8-bec4-4241-bca3-afa4c87c12fa",
   "metadata": {},
   "outputs": [],
   "source": [
    "# Ex 3 - Times Output\n",
    "days = 30\n",
    "start = 7\n",
    "\n",
    "while True:\n",
    "    days = input(\"Enter No. of Days (28-31): \")\n",
    "    if not days.isdigit():\n",
    "        print(\"Invalid Option.\")\n",
    "        continue\n",
    "    days = int(days)\n",
    "    if days<28 or days>31:\n",
    "        print(\"Invalid Option.\")\n",
    "        continue\n",
    "    break\n",
    "\n",
    "while True:\n",
    "    start = input(\"Enter start day (1-7): \")\n",
    "    if not start.isdigit():\n",
    "        print(\"Invalid Option.\")\n",
    "        continue\n",
    "    start = int(start)\n",
    "    if start<1 or start>7:\n",
    "        print(\"Invalid Option.\")\n",
    "        continue\n",
    "    break\n",
    "\n",
    "print()\n",
    "print(\"   M   T   W  Th   F   S  Su\")\n",
    "n = 1\n",
    "for i in range(1,7):\n",
    "    for j in range(1,8):\n",
    "        if start-1 >= 1:\n",
    "            print(\"    \", end=\"\")\n",
    "            start -= 1\n",
    "            continue\n",
    "        print(f\" {n:3}\",end=\"\")\n",
    "        if days == n:\n",
    "            break\n",
    "        n+=1\n",
    "    if days == n:\n",
    "            break\n",
    "    print()"
   ]
  },
  {
   "cell_type": "code",
   "execution_count": null,
   "id": "95a34092-d844-4e9b-9dd5-d08c28a83c6e",
   "metadata": {},
   "outputs": [],
   "source": []
  }
 ],
 "metadata": {
  "kernelspec": {
   "display_name": "Python 3 (ipykernel)",
   "language": "python",
   "name": "python3"
  },
  "language_info": {
   "codemirror_mode": {
    "name": "ipython",
    "version": 3
   },
   "file_extension": ".py",
   "mimetype": "text/x-python",
   "name": "python",
   "nbconvert_exporter": "python",
   "pygments_lexer": "ipython3",
   "version": "3.12.7"
  }
 },
 "nbformat": 4,
 "nbformat_minor": 5
}
