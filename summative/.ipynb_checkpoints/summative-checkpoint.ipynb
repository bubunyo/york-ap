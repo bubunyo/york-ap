{
 "cells": [
  {
   "cell_type": "code",
   "execution_count": 4,
   "id": "d4c1c87a-2b0f-4202-a209-e4048ecfe9fb",
   "metadata": {},
   "outputs": [],
   "source": [
    "import numpy as np\n",
    "import pandas as pd\n",
    "import csv, sqlite3"
   ]
  },
  {
   "cell_type": "code",
   "execution_count": 5,
   "id": "51f94e0f-7cb8-43ac-a2c4-d14dfe1ff42b",
   "metadata": {},
   "outputs": [],
   "source": [
    "conn = sqlite3.connect(\":memory:\") # change to 'sqlite:///your_filename.db'"
   ]
  },
  {
   "cell_type": "code",
   "execution_count": 15,
   "id": "848fa22d-aaa7-4f2c-a8fe-650b9c66e669",
   "metadata": {},
   "outputs": [],
   "source": [
    "activity_log_df = pd.read_csv(\"ACTIVITY_LOG.csv\")\n",
    "component_df = pd.read_csv(\"COMPONENT_CODES.csv\")\n",
    "user_log_df = pd.read_csv(\"USER_LOG.csv\")"
   ]
  },
  {
   "cell_type": "code",
   "execution_count": 16,
   "id": "6d0faba5-e921-4d97-8d9b-e2d89113ca09",
   "metadata": {},
   "outputs": [],
   "source": [
    "col_name_change={'User Full Name *Anonymized':'Uid'}\n",
    "activity_log_df.rename(columns=col_name_change, inplace=True)\n",
    "user_log_df.rename(columns=col_name_change, inplace=True)"
   ]
  },
  {
   "cell_type": "code",
   "execution_count": 23,
   "id": "29c413fe-187d-4669-9982-30eccf929726",
   "metadata": {},
   "outputs": [
    {
     "data": {
      "text/html": [
       "<div>\n",
       "<style scoped>\n",
       "    .dataframe tbody tr th:only-of-type {\n",
       "        vertical-align: middle;\n",
       "    }\n",
       "\n",
       "    .dataframe tbody tr th {\n",
       "        vertical-align: top;\n",
       "    }\n",
       "\n",
       "    .dataframe thead th {\n",
       "        text-align: right;\n",
       "    }\n",
       "</style>\n",
       "<table border=\"1\" class=\"dataframe\">\n",
       "  <thead>\n",
       "    <tr style=\"text-align: right;\">\n",
       "      <th></th>\n",
       "      <th>Date</th>\n",
       "      <th>Time</th>\n",
       "      <th>Uid_user</th>\n",
       "      <th>Uid_activity</th>\n",
       "      <th>Component</th>\n",
       "      <th>Action</th>\n",
       "      <th>Target</th>\n",
       "    </tr>\n",
       "  </thead>\n",
       "  <tbody>\n",
       "    <tr>\n",
       "      <th>0</th>\n",
       "      <td>17/11/2023 00:00</td>\n",
       "      <td>00:00:00</td>\n",
       "      <td>129</td>\n",
       "      <td>129</td>\n",
       "      <td>Course</td>\n",
       "      <td>Viewed</td>\n",
       "      <td>Content</td>\n",
       "    </tr>\n",
       "    <tr>\n",
       "      <th>1</th>\n",
       "      <td>10/11/2023 00:00</td>\n",
       "      <td>00:00:01</td>\n",
       "      <td>26</td>\n",
       "      <td>26</td>\n",
       "      <td>Quiz</td>\n",
       "      <td>Updated</td>\n",
       "      <td>Response</td>\n",
       "    </tr>\n",
       "    <tr>\n",
       "      <th>2</th>\n",
       "      <td>10/11/2023 00:00</td>\n",
       "      <td>00:00:02</td>\n",
       "      <td>26</td>\n",
       "      <td>26</td>\n",
       "      <td>Quiz</td>\n",
       "      <td>Viewed</td>\n",
       "      <td>Attempt</td>\n",
       "    </tr>\n",
       "    <tr>\n",
       "      <th>3</th>\n",
       "      <td>20/12/2023 00:00</td>\n",
       "      <td>00:00:02</td>\n",
       "      <td>86</td>\n",
       "      <td>86</td>\n",
       "      <td>Assignment</td>\n",
       "      <td>Viewed</td>\n",
       "      <td>Assignment</td>\n",
       "    </tr>\n",
       "    <tr>\n",
       "      <th>4</th>\n",
       "      <td>20/12/2023 00:00</td>\n",
       "      <td>00:00:03</td>\n",
       "      <td>86</td>\n",
       "      <td>86</td>\n",
       "      <td>Assignment</td>\n",
       "      <td>Viewed</td>\n",
       "      <td>Submission_state</td>\n",
       "    </tr>\n",
       "    <tr>\n",
       "      <th>...</th>\n",
       "      <td>...</td>\n",
       "      <td>...</td>\n",
       "      <td>...</td>\n",
       "      <td>...</td>\n",
       "      <td>...</td>\n",
       "      <td>...</td>\n",
       "      <td>...</td>\n",
       "    </tr>\n",
       "    <tr>\n",
       "      <th>150830</th>\n",
       "      <td>20/11/2023 00:00</td>\n",
       "      <td>23:59:47</td>\n",
       "      <td>125</td>\n",
       "      <td>125</td>\n",
       "      <td>Course</td>\n",
       "      <td>Viewed</td>\n",
       "      <td>Content</td>\n",
       "    </tr>\n",
       "    <tr>\n",
       "      <th>150831</th>\n",
       "      <td>19/12/2023 00:00</td>\n",
       "      <td>23:59:47</td>\n",
       "      <td>86</td>\n",
       "      <td>86</td>\n",
       "      <td>System</td>\n",
       "      <td>Viewed</td>\n",
       "      <td>Content</td>\n",
       "    </tr>\n",
       "    <tr>\n",
       "      <th>150832</th>\n",
       "      <td>12/10/2023 00:00</td>\n",
       "      <td>23:59:50</td>\n",
       "      <td>129</td>\n",
       "      <td>129</td>\n",
       "      <td>Course</td>\n",
       "      <td>Viewed</td>\n",
       "      <td>Course</td>\n",
       "    </tr>\n",
       "    <tr>\n",
       "      <th>150833</th>\n",
       "      <td>09/11/2023 00:00</td>\n",
       "      <td>23:59:56</td>\n",
       "      <td>26</td>\n",
       "      <td>26</td>\n",
       "      <td>Quiz</td>\n",
       "      <td>Viewed</td>\n",
       "      <td>Attempt</td>\n",
       "    </tr>\n",
       "    <tr>\n",
       "      <th>150834</th>\n",
       "      <td>09/11/2023 00:00</td>\n",
       "      <td>23:59:56</td>\n",
       "      <td>26</td>\n",
       "      <td>26</td>\n",
       "      <td>Quiz</td>\n",
       "      <td>Updated</td>\n",
       "      <td>Response</td>\n",
       "    </tr>\n",
       "  </tbody>\n",
       "</table>\n",
       "<p>150835 rows × 7 columns</p>\n",
       "</div>"
      ],
      "text/plain": [
       "                    Date       Time  Uid_user  Uid_activity   Component  \\\n",
       "0       17/11/2023 00:00   00:00:00       129           129      Course   \n",
       "1       10/11/2023 00:00   00:00:01        26            26        Quiz   \n",
       "2       10/11/2023 00:00   00:00:02        26            26        Quiz   \n",
       "3       20/12/2023 00:00   00:00:02        86            86  Assignment   \n",
       "4       20/12/2023 00:00   00:00:03        86            86  Assignment   \n",
       "...                  ...        ...       ...           ...         ...   \n",
       "150830  20/11/2023 00:00   23:59:47       125           125      Course   \n",
       "150831  19/12/2023 00:00   23:59:47        86            86      System   \n",
       "150832  12/10/2023 00:00   23:59:50       129           129      Course   \n",
       "150833  09/11/2023 00:00   23:59:56        26            26        Quiz   \n",
       "150834  09/11/2023 00:00   23:59:56        26            26        Quiz   \n",
       "\n",
       "         Action            Target  \n",
       "0        Viewed           Content  \n",
       "1       Updated          Response  \n",
       "2        Viewed           Attempt  \n",
       "3        Viewed        Assignment  \n",
       "4        Viewed  Submission_state  \n",
       "...         ...               ...  \n",
       "150830   Viewed           Content  \n",
       "150831   Viewed           Content  \n",
       "150832   Viewed            Course  \n",
       "150833   Viewed           Attempt  \n",
       "150834  Updated          Response  \n",
       "\n",
       "[150835 rows x 7 columns]"
      ]
     },
     "execution_count": 23,
     "metadata": {},
     "output_type": "execute_result"
    }
   ],
   "source": [
    "m_df = pd.merge(user_log_df,activity_log_df,left_index=True, right_index=True, suffixes=('_user', '_activity'))\n",
    "m_df"
   ]
  },
  {
   "cell_type": "code",
   "execution_count": 24,
   "id": "109f38eb-856e-4a25-99f9-db881eaabdea",
   "metadata": {},
   "outputs": [
    {
     "data": {
      "text/plain": [
       "0         True\n",
       "1         True\n",
       "2         True\n",
       "3         True\n",
       "4         True\n",
       "          ... \n",
       "150830    True\n",
       "150831    True\n",
       "150832    True\n",
       "150833    True\n",
       "150834    True\n",
       "Length: 150835, dtype: bool"
      ]
     },
     "execution_count": 24,
     "metadata": {},
     "output_type": "execute_result"
    }
   ],
   "source": [
    "m_df.Uid_user == m_df.Uid_activity"
   ]
  },
  {
   "cell_type": "code",
   "execution_count": 25,
   "id": "383074c5-39a1-488a-b369-e71359993f70",
   "metadata": {},
   "outputs": [
    {
     "data": {
      "text/plain": [
       "0         False\n",
       "1         False\n",
       "2         False\n",
       "3         False\n",
       "4         False\n",
       "          ...  \n",
       "150830    False\n",
       "150831    False\n",
       "150832    False\n",
       "150833    False\n",
       "150834    False\n",
       "Length: 150835, dtype: bool"
      ]
     },
     "execution_count": 25,
     "metadata": {},
     "output_type": "execute_result"
    }
   ],
   "source": [
    "m_df.Uid_user != m_df.Uid_activity"
   ]
  },
  {
   "cell_type": "code",
   "execution_count": 29,
   "id": "622ede15-7aeb-4e5a-9220-db9ffc861de6",
   "metadata": {},
   "outputs": [
    {
     "data": {
      "text/plain": [
       "Series([], Name: Uid_user, dtype: int64)"
      ]
     },
     "execution_count": 29,
     "metadata": {},
     "output_type": "execute_result"
    }
   ],
   "source": [
    "differences = m_df.Uid_user[m_df.Uid_user != m_df.Uid_activity]\n",
    "differences"
   ]
  },
  {
   "cell_type": "code",
   "execution_count": 9,
   "id": "04466c0b-8632-4f1f-b0f5-3c35909490b2",
   "metadata": {},
   "outputs": [
    {
     "name": "stdout",
     "output_type": "stream",
     "text": [
      "<class 'pandas.core.frame.DataFrame'>\n",
      "RangeIndex: 150835 entries, 0 to 150834\n",
      "Data columns (total 3 columns):\n",
      " #   Column  Non-Null Count   Dtype \n",
      "---  ------  --------------   ----- \n",
      " 0   Date    150835 non-null  object\n",
      " 1   Time    150835 non-null  object\n",
      " 2   Uid     150835 non-null  int64 \n",
      "dtypes: int64(1), object(2)\n",
      "memory usage: 3.5+ MB\n"
     ]
    }
   ],
   "source": [
    "user_log_df.info()"
   ]
  },
  {
   "cell_type": "code",
   "execution_count": 6,
   "id": "fb695c2d-4eda-4ce9-95e4-ccd6afaae2aa",
   "metadata": {},
   "outputs": [
    {
     "data": {
      "text/html": [
       "<div>\n",
       "<style scoped>\n",
       "    .dataframe tbody tr th:only-of-type {\n",
       "        vertical-align: middle;\n",
       "    }\n",
       "\n",
       "    .dataframe tbody tr th {\n",
       "        vertical-align: top;\n",
       "    }\n",
       "\n",
       "    .dataframe thead th {\n",
       "        text-align: right;\n",
       "    }\n",
       "</style>\n",
       "<table border=\"1\" class=\"dataframe\">\n",
       "  <thead>\n",
       "    <tr style=\"text-align: right;\">\n",
       "      <th></th>\n",
       "      <th>Date</th>\n",
       "      <th>Time</th>\n",
       "      <th>Uid</th>\n",
       "      <th>Component</th>\n",
       "      <th>Action</th>\n",
       "      <th>Target</th>\n",
       "    </tr>\n",
       "  </thead>\n",
       "  <tbody>\n",
       "    <tr>\n",
       "      <th>0</th>\n",
       "      <td>17/11/2023 00:00</td>\n",
       "      <td>00:00:00</td>\n",
       "      <td>129</td>\n",
       "      <td>Course</td>\n",
       "      <td>Viewed</td>\n",
       "      <td>Content</td>\n",
       "    </tr>\n",
       "    <tr>\n",
       "      <th>1</th>\n",
       "      <td>10/11/2023 00:00</td>\n",
       "      <td>00:00:01</td>\n",
       "      <td>26</td>\n",
       "      <td>Quiz</td>\n",
       "      <td>Updated</td>\n",
       "      <td>Response</td>\n",
       "    </tr>\n",
       "    <tr>\n",
       "      <th>2</th>\n",
       "      <td>10/11/2023 00:00</td>\n",
       "      <td>00:00:02</td>\n",
       "      <td>26</td>\n",
       "      <td>Quiz</td>\n",
       "      <td>Viewed</td>\n",
       "      <td>Attempt</td>\n",
       "    </tr>\n",
       "    <tr>\n",
       "      <th>3</th>\n",
       "      <td>20/12/2023 00:00</td>\n",
       "      <td>00:00:02</td>\n",
       "      <td>86</td>\n",
       "      <td>Assignment</td>\n",
       "      <td>Viewed</td>\n",
       "      <td>Assignment</td>\n",
       "    </tr>\n",
       "    <tr>\n",
       "      <th>4</th>\n",
       "      <td>20/12/2023 00:00</td>\n",
       "      <td>00:00:03</td>\n",
       "      <td>86</td>\n",
       "      <td>Assignment</td>\n",
       "      <td>Viewed</td>\n",
       "      <td>Submission_state</td>\n",
       "    </tr>\n",
       "    <tr>\n",
       "      <th>...</th>\n",
       "      <td>...</td>\n",
       "      <td>...</td>\n",
       "      <td>...</td>\n",
       "      <td>...</td>\n",
       "      <td>...</td>\n",
       "      <td>...</td>\n",
       "    </tr>\n",
       "    <tr>\n",
       "      <th>150830</th>\n",
       "      <td>20/11/2023 00:00</td>\n",
       "      <td>23:59:47</td>\n",
       "      <td>125</td>\n",
       "      <td>Course</td>\n",
       "      <td>Viewed</td>\n",
       "      <td>Content</td>\n",
       "    </tr>\n",
       "    <tr>\n",
       "      <th>150831</th>\n",
       "      <td>19/12/2023 00:00</td>\n",
       "      <td>23:59:47</td>\n",
       "      <td>86</td>\n",
       "      <td>System</td>\n",
       "      <td>Viewed</td>\n",
       "      <td>Content</td>\n",
       "    </tr>\n",
       "    <tr>\n",
       "      <th>150832</th>\n",
       "      <td>12/10/2023 00:00</td>\n",
       "      <td>23:59:50</td>\n",
       "      <td>129</td>\n",
       "      <td>Course</td>\n",
       "      <td>Viewed</td>\n",
       "      <td>Course</td>\n",
       "    </tr>\n",
       "    <tr>\n",
       "      <th>150833</th>\n",
       "      <td>09/11/2023 00:00</td>\n",
       "      <td>23:59:56</td>\n",
       "      <td>26</td>\n",
       "      <td>Quiz</td>\n",
       "      <td>Viewed</td>\n",
       "      <td>Attempt</td>\n",
       "    </tr>\n",
       "    <tr>\n",
       "      <th>150834</th>\n",
       "      <td>09/11/2023 00:00</td>\n",
       "      <td>23:59:56</td>\n",
       "      <td>26</td>\n",
       "      <td>Quiz</td>\n",
       "      <td>Updated</td>\n",
       "      <td>Response</td>\n",
       "    </tr>\n",
       "  </tbody>\n",
       "</table>\n",
       "<p>150835 rows × 6 columns</p>\n",
       "</div>"
      ],
      "text/plain": [
       "                    Date       Time  Uid   Component   Action  \\\n",
       "0       17/11/2023 00:00   00:00:00  129      Course   Viewed   \n",
       "1       10/11/2023 00:00   00:00:01   26        Quiz  Updated   \n",
       "2       10/11/2023 00:00   00:00:02   26        Quiz   Viewed   \n",
       "3       20/12/2023 00:00   00:00:02   86  Assignment   Viewed   \n",
       "4       20/12/2023 00:00   00:00:03   86  Assignment   Viewed   \n",
       "...                  ...        ...  ...         ...      ...   \n",
       "150830  20/11/2023 00:00   23:59:47  125      Course   Viewed   \n",
       "150831  19/12/2023 00:00   23:59:47   86      System   Viewed   \n",
       "150832  12/10/2023 00:00   23:59:50  129      Course   Viewed   \n",
       "150833  09/11/2023 00:00   23:59:56   26        Quiz   Viewed   \n",
       "150834  09/11/2023 00:00   23:59:56   26        Quiz  Updated   \n",
       "\n",
       "                  Target  \n",
       "0                Content  \n",
       "1               Response  \n",
       "2                Attempt  \n",
       "3             Assignment  \n",
       "4       Submission_state  \n",
       "...                  ...  \n",
       "150830           Content  \n",
       "150831           Content  \n",
       "150832            Course  \n",
       "150833           Attempt  \n",
       "150834          Response  \n",
       "\n",
       "[150835 rows x 6 columns]"
      ]
     },
     "execution_count": 6,
     "metadata": {},
     "output_type": "execute_result"
    }
   ],
   "source": [
    "merge_log_df = pd.concat([user_log_df, activity_log_df.drop('Uid', axis=1)], axis=1)\n",
    "merge_log_df"
   ]
  },
  {
   "cell_type": "code",
   "execution_count": 7,
   "id": "ae8f3db5-0be1-4eea-9558-159ef96cf19d",
   "metadata": {},
   "outputs": [
    {
     "data": {
      "text/plain": [
       "150835"
      ]
     },
     "execution_count": 7,
     "metadata": {},
     "output_type": "execute_result"
    }
   ],
   "source": [
    "component_df.to_sql(\"components\", conn, if_exists='append', index=False)\n",
    "merge_log_df.to_sql(\"merge_log\", conn, if_exists='append', index=False)"
   ]
  },
  {
   "cell_type": "code",
   "execution_count": 11,
   "id": "3288cb4b-9ce6-499e-9ba4-8cfe26898519",
   "metadata": {},
   "outputs": [
    {
     "name": "stdout",
     "output_type": "stream",
     "text": [
      "('Course', 'Cour')\n",
      "('Quiz', 'Quiz')\n",
      "('Assignment', 'Assign')\n",
      "('System', 'Sys')\n",
      "('Lecture', 'Lect')\n",
      "('Study_material', 'Study_mat')\n",
      "('Manual', 'Man')\n",
      "('Survey', 'Survey')\n",
      "('Folder', 'Fold')\n",
      "('Attendence', 'Attend')\n",
      "('Page', 'Page')\n",
      "('Test', 'Test')\n",
      "('URL', 'Url')\n",
      "('Book', 'Book')\n",
      "('Source', 'Sourc')\n",
      "('Questionnaire', 'Quest')\n",
      "('Feedback', 'Feedback')\n",
      "('Project', 'Proj')\n"
     ]
    }
   ],
   "source": [
    "cur = conn.cursor()\n",
    "for row in cur.execute('SELECT * FROM components;'):\n",
    "    print(row)"
   ]
  },
  {
   "cell_type": "code",
   "execution_count": null,
   "id": "1c18522f-8dd7-400a-9357-c6f56da8b6d2",
   "metadata": {},
   "outputs": [],
   "source": []
  }
 ],
 "metadata": {
  "kernelspec": {
   "display_name": "venv",
   "language": "python",
   "name": "venv"
  },
  "language_info": {
   "codemirror_mode": {
    "name": "ipython",
    "version": 3
   },
   "file_extension": ".py",
   "mimetype": "text/x-python",
   "name": "python",
   "nbconvert_exporter": "python",
   "pygments_lexer": "ipython3",
   "version": "3.13.0"
  }
 },
 "nbformat": 4,
 "nbformat_minor": 5
}
