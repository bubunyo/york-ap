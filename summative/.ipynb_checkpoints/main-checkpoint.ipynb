{
 "cells": [
  {
   "cell_type": "code",
   "id": "d4c1c87a-2b0f-4202-a209-e4048ecfe9fb",
   "metadata": {
    "ExecuteTime": {
     "end_time": "2024-12-03T23:46:10.881849Z",
     "start_time": "2024-12-03T23:46:10.175399Z"
    }
   },
   "source": [
    "import numpy as np\n",
    "import pandas as pd\n",
    "import csv, sqlite3\n",
    "import matplotlib.pyplot as plt\n"
   ],
   "outputs": [],
   "execution_count": 1
  },
  {
   "metadata": {
    "ExecuteTime": {
     "end_time": "2024-12-03T23:46:10.889344Z",
     "start_time": "2024-12-03T23:46:10.886253Z"
    }
   },
   "cell_type": "code",
   "source": [
    "def valid_data(user_log_df, activity_log_df):\n",
    "    intersection = np.intersect1d(user_log_df.columns, activity_log_df.columns)\n",
    "\n",
    "    user_int = user_log_df[intersection]\n",
    "    activity_int = activity_log_df[intersection]\n",
    "\n",
    "    # if the rows, that are common in both data frames do intersect with different data\n",
    "    # the data is deemed invalid and processing cannot continue\n",
    "    return (user_int == activity_int).all(axis=1).all()\n"
   ],
   "id": "9df6e1b0ffc2aeb3",
   "outputs": [],
   "execution_count": 2
  },
  {
   "metadata": {
    "ExecuteTime": {
     "end_time": "2024-12-03T23:46:10.934823Z",
     "start_time": "2024-12-03T23:46:10.931560Z"
    }
   },
   "cell_type": "code",
   "source": [
    "def prep_df(dataframes):\n",
    "    if dataframes is None:\n",
    "        gui.set_status(\"No data selected\")\n",
    "        return\n",
    "\n",
    "    user_log_df = next((f for f in dataframes if \"Date\" in f.columns), None)\n",
    "    activity_log_df = next((f for f in dataframes if \"Action\" in f.columns), None)\n",
    "    component_df = next((f for f in dataframes if \"Code\" in f.columns), None)\n",
    "\n",
    "    if user_log_df is None:\n",
    "        gui.set_status(\"User Log Data Not Found\")\n",
    "        return\n",
    "    if activity_log_df is None:\n",
    "        gui.set_status(\"Activity Log Data Not Found\")\n",
    "        return\n",
    "    if component_df is None:\n",
    "        gui.set_status(\"Component Data Not Found\")\n",
    "        return\n",
    "\n",
    "    if not valid_data():\n",
    "        gui.set_status(\"Data is not valid\")\n",
    "        return\n",
    "    return user_log_df, activity_log_df, component_df"
   ],
   "id": "eb4f1774d4a57d11",
   "outputs": [],
   "execution_count": 3
  },
  {
   "metadata": {
    "ExecuteTime": {
     "end_time": "2024-12-03T23:46:10.943670Z",
     "start_time": "2024-12-03T23:46:10.939875Z"
    }
   },
   "cell_type": "code",
   "source": [
    "def transformation_remove(user_log_df, activity_log_df, component_df):\n",
    "    # 1. REMOVE: No outputs should include any data from Component: System, and Folder.\n",
    "    delete_col_name = '__delete_row'\n",
    "\n",
    "    # Function to mark rows for deletion based on a condition\n",
    "    def mark_for_deletion(df, cond):\n",
    "        df.loc[cond, delete_col_name] = True\n",
    "        return df\n",
    "\n",
    "    # Mark rows for deletion\n",
    "    condition = (lambda df: (df['Component'] == 'System') | (df['Component'] == 'Folder'))\n",
    "\n",
    "    component_df = mark_for_deletion(component_df, condition(component_df))\n",
    "    activity_log_df = mark_for_deletion(activity_log_df, condition(activity_log_df))\n",
    "\n",
    "    # Propagate deletion from activity_log_df to user_log_df\n",
    "    filtered_indexes = activity_log_df[activity_log_df[delete_col_name] == True].index\n",
    "    user_log_df.loc[filtered_indexes, delete_col_name] = True\n",
    "\n",
    "    # Drop marked rows\n",
    "    def drop_marked_rows(df):\n",
    "        return df.drop(df[df[delete_col_name] == True].index).drop(columns=[delete_col_name])\n",
    "\n",
    "    user_log_df = drop_marked_rows(user_log_df)\n",
    "    activity_log_df = drop_marked_rows(activity_log_df)\n",
    "    drop_marked_rows(component_df)\n",
    "\n",
    "    print(len(user_log_df), \"<<< user\")\n",
    "    print(len(activity_log_df), \"<<< act\")\n",
    "    print(len(component_df), \"<<< comp\")\n",
    "\n",
    "    return len(user_log_df) != len(activity_log_df)\n"
   ],
   "id": "12a51e145c0d4cca",
   "outputs": [],
   "execution_count": 4
  },
  {
   "metadata": {
    "ExecuteTime": {
     "end_time": "2024-12-03T23:46:10.954171Z",
     "start_time": "2024-12-03T23:46:10.951986Z"
    }
   },
   "cell_type": "code",
   "source": [
    "def transformation_rename(user_log_df, activity_log_df):\n",
    "    # 2. RENAME: The column “User Full Name *Anonymized” should be renamed\n",
    "    # as User_ID both in ACTIVITY_LOG and USER_LOG CSVs.\n",
    "    col_name_change = {'User Full Name *Anonymized': 'User_ID'}\n",
    "    activity_log_df.rename(columns=col_name_change, inplace=True)\n",
    "    user_log_df.rename(columns=col_name_change, inplace=True)"
   ],
   "id": "7cd537a1dcea476b",
   "outputs": [],
   "execution_count": 5
  },
  {
   "metadata": {
    "ExecuteTime": {
     "end_time": "2024-12-03T23:46:10.966986Z",
     "start_time": "2024-12-03T23:46:10.965002Z"
    }
   },
   "cell_type": "code",
   "source": [
    "def transformation_merge(user_log_df, activity_log_df):\n",
    "    # 3. MERGE: Merge the suitable CSVs for analysing user interactions with each component.\n",
    "    return pd.concat([user_log_df, activity_log_df.drop('User_ID', axis=1)], axis=1)"
   ],
   "id": "e6c3e80c9ee6369d",
   "outputs": [],
   "execution_count": 6
  },
  {
   "metadata": {
    "ExecuteTime": {
     "end_time": "2024-12-03T23:46:10.972741Z",
     "start_time": "2024-12-03T23:46:10.969625Z"
    }
   },
   "cell_type": "code",
   "source": [
    "def transformation_reshape(merge_log_df, col_name, period):\n",
    "    # 4. RESHAPE: Reshape the data using pivot operation.\n",
    "\n",
    "    merge_log_df['Date'] = (pd.to_datetime(merge_log_df['Date'], format='%d/%m/%Y %H:%M') +\n",
    "                            pd.to_timedelta(merge_log_df['Time']))\n",
    "\n",
    "    # Drop the original 'Date' and 'Time' columns if no longer needed\n",
    "    merge_log_df = merge_log_df.drop(columns=['Time']).rename(columns={'Date': 'Datetime'})\n",
    "\n",
    "    merge_log_df[col_name] = merge_log_df['Datetime'].dt.to_period(period)\n",
    "\n",
    "    pivot_data = merge_log_df.pivot_table(\n",
    "        index=['User_ID', 'Month'],\n",
    "        columns='Component',\n",
    "        values='Action',\n",
    "        aggfunc='count',\n",
    "        fill_value=0\n",
    "    )\n",
    "\n",
    "    pivot_data.columns = [col for col in pivot_data.columns]\n",
    "\n",
    "    return pivot_data.reset_index()\n"
   ],
   "id": "c4e8cda41041508",
   "outputs": [],
   "execution_count": 7
  },
  {
   "metadata": {
    "ExecuteTime": {
     "end_time": "2024-12-03T23:46:10.980156Z",
     "start_time": "2024-12-03T23:46:10.978029Z"
    }
   },
   "cell_type": "code",
   "source": [
    "def transformation_count(pivot_data, col_name):\n",
    "    # 5. COUNT: The interactions for each user with the Component for each month.\n",
    "    pivot_data['Total Interaction'] = pivot_data.loc[:, ~pivot_data.columns.isin(['User_ID', col_name])].sum(axis=1)\n"
   ],
   "id": "3d52debdfc6ca419",
   "outputs": [],
   "execution_count": 8
  },
  {
   "metadata": {
    "ExecuteTime": {
     "end_time": "2024-12-03T23:46:10.987974Z",
     "start_time": "2024-12-03T23:46:10.985120Z"
    }
   },
   "cell_type": "code",
   "source": [
    "def transformation_output_statistics(pivot_data, period):\n",
    "    #     OUTPUT STATISTICS: Produce the mean, mode and median for the components: Quiz, Lecture, Assignment, Attendance, and Survey.\n",
    "    # - For each month\n",
    "    # - For the entire 13-week academic semester\n",
    "    selected_components = ['User_ID', period, 'Quiz', 'Lecture', 'Assignment', 'Attendence', 'Survey']\n",
    "    raw_data = pivot_data[selected_components]\n",
    "    monthly_stats = raw_data[['User_ID', period]].copy()\n",
    "    data_df = raw_data.loc[:, ~raw_data.columns.isin(['User_ID', period])]\n",
    "    monthly_stats['Mean'] = data_df.mean(axis=1)\n",
    "    monthly_stats['Median'] = data_df.median(axis=1)\n",
    "    monthly_stats['Mode'] = data_df.mode(axis=1).iloc[:, 0]\n",
    "    return monthly_stats\n"
   ],
   "id": "58242fc047e95dd8",
   "outputs": [],
   "execution_count": 9
  },
  {
   "cell_type": "code",
   "id": "27ca46882cef1f83",
   "metadata": {
    "ExecuteTime": {
     "end_time": "2024-12-03T23:46:10.994993Z",
     "start_time": "2024-12-03T23:46:10.992804Z"
    }
   },
   "source": [
    "def transformation_output_correlation(pivot_data):\n",
    "    correlation_components = ['Assignment', 'Quiz', 'Lecture', 'Book', 'Project', 'Course']\n",
    "    correlation_data = pivot_data[['User_ID'] + [c for c in correlation_components if c in pivot_data.columns]]\n",
    "    return correlation_data.corr()"
   ],
   "outputs": [],
   "execution_count": 10
  },
  {
   "metadata": {
    "ExecuteTime": {
     "end_time": "2024-12-03T23:46:11.001915Z",
     "start_time": "2024-12-03T23:46:10.999989Z"
    }
   },
   "cell_type": "code",
   "source": [
    "headerDimensions = {\"Datetime\": 3}\n",
    "\n",
    "\n",
    "def extract_data(df: pd.DataFrame):\n",
    "    cols = df.columns\n",
    "    print(cols)"
   ],
   "id": "d3db9c7601a1027a",
   "outputs": [],
   "execution_count": 11
  },
  {
   "metadata": {
    "ExecuteTime": {
     "end_time": "2024-12-03T23:46:11.014498Z",
     "start_time": "2024-12-03T23:46:11.010823Z"
    }
   },
   "cell_type": "code",
   "source": [
    "def import_hook(files):\n",
    "    print(\"import files>>>>\", files)\n",
    "    dataframes = []\n",
    "    try:\n",
    "        for file in files:\n",
    "            dataframes.append(pd.read_csv(file))\n",
    "    except Exception as e:\n",
    "        gui.set_status(\"File Read error: \" + str(e))\n",
    "        return\n",
    "\n",
    "    user_log_df, activity_log_df, components_df = prep_df(dataframes)\n",
    "\n",
    "    if not transformation_remove(user_log_df, activity_log_df, components_df):\n",
    "        gui.set_status(\"Cleaning resulted in incompatible data types\")\n",
    "\n",
    "    transformation_rename(user_log_df, activity_log_df)\n",
    "\n",
    "    merged_df: pd.DataFrame = transformation_merge(user_log_df, activity_log_df)\n",
    "    extract_data(merged_df)\n",
    "\n",
    "    # gui.show_merge_data(None, merged_df)\n",
    "\n",
    "    # monthly statistics\n",
    "    month_pivot_df = transformation_reshape(merged_df.copy(), \"Month\", period='M')\n",
    "    transformation_count(month_pivot_df, \"Month\")\n",
    "    monthly_stats = transformation_output_statistics(month_pivot_df, \"Month\")\n",
    "\n",
    "    # total statistics\n",
    "    year_pivot_df = transformation_reshape(merged_df.copy(), \"Year\", period='Y')\n",
    "    year_stats = transformation_output_statistics(month_pivot_df, \"Year\")\n",
    "\n",
    "    corr_metrix = transformation_output_correlation(year_pivot_df)\n"
   ],
   "id": "23508327f1e142d7",
   "outputs": [],
   "execution_count": 12
  },
  {
   "cell_type": "code",
   "id": "aa79555aa3aa450c",
   "metadata": {
    "jupyter": {
     "is_executing": true
    },
    "ExecuteTime": {
     "start_time": "2024-12-03T23:46:11.019551Z"
    }
   },
   "source": [
    "\n",
    "from gui import Gui\n",
    "\n",
    "gui = Gui(None)\n",
    "\n",
    "gui.mainloop()\n"
   ],
   "outputs": [],
   "execution_count": null
  },
  {
   "metadata": {},
   "cell_type": "code",
   "outputs": [],
   "execution_count": null,
   "source": "",
   "id": "32b0b86619c2bdb6"
  }
 ],
 "metadata": {
  "kernelspec": {
   "display_name": "summative",
   "language": "python",
   "name": "summative"
  },
  "language_info": {
   "codemirror_mode": {
    "name": "ipython",
    "version": 3
   },
   "file_extension": ".py",
   "mimetype": "text/x-python",
   "name": "python",
   "nbconvert_exporter": "python",
   "pygments_lexer": "ipython3",
   "version": "3.10.15"
  }
 },
 "nbformat": 4,
 "nbformat_minor": 5
}
