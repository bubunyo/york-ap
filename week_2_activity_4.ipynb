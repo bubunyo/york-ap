{
 "cells": [
  {
   "cell_type": "code",
   "execution_count": 1,
   "id": "a7cd158f-c9aa-4241-aec2-4f4132ff27e1",
   "metadata": {},
   "outputs": [],
   "source": [
    "import re"
   ]
  },
  {
   "cell_type": "code",
   "execution_count": 3,
   "id": "5def8b6a-8944-4d22-83e8-6acde3398329",
   "metadata": {},
   "outputs": [],
   "source": [
    "file = open(\"The_Raven.txt\", 'r')\n",
    "content = file.read()"
   ]
  },
  {
   "cell_type": "code",
   "execution_count": 11,
   "id": "14af708a-d8e1-4a1c-a8eb-69916ab2ffc2",
   "metadata": {},
   "outputs": [
    {
     "name": "stdout",
     "output_type": "stream",
     "text": [
      "match found for shreiked\n",
      "match found for bleak\n",
      "No. of words that contain pp is 5\n",
      "\n",
      "Once upon a midnight dreary, while I\n",
      "\tpondered, weak and weary,\n",
      "Over many a quaint and curious volume of forgotten lore-\n",
      "While I nodded, nearly napping, suddenly\n",
      "\tthere came a tapping,\n",
      "As of some one gently rapping, rapping at my chamber door -\n",
      "'Tis some visitor,' I muttered, 'tapping at my chamber door -\n",
      "Only this and nothing more,'\n",
      "\n",
      "“Be that word our sign of parting, bird or\n",
      "\tfiend#” I shrieked, upstarting –\n",
      "“Get thee back into the tempest and the\n",
      "\tNight’s Plutonian shore#\n",
      "Leave no black plume as a token of that\n",
      "\tLie thy soul hath spoken#\n",
      "Leave my loneliness unbroken# – quit the bust above my door#\n",
      "Take thy beak from my heart, and take \n",
      "thy form from off my door#”\n",
      "\tQuoth the raven ‘Nevermore.’\n",
      "\n",
      "Exert form Edger Allen Poe's \"The Raven\".\n",
      "\n"
     ]
    }
   ],
   "source": [
    "# Excercise 1\n",
    "if re.search(r'shrieked',content):\n",
    "    print(\"match found for shreiked\")\n",
    "else:\n",
    "    print(\"match found for shreiked\")\n",
    "\n",
    "if re.search(r'bleak',content):\n",
    "    print(\"match found for bleak\")\n",
    "else:\n",
    "    print(\"match found for bleak\")\n",
    "\n",
    "wordWithPp = re.findall(r'\\b\\w*pp\\w*\\b', content)\n",
    "print(f'No. of words that contain pp is {len(wordWithPp)}')\n",
    "\n",
    "print()\n",
    "\n",
    "newCont = re.sub(r'!', '#', content)\n",
    "print(newCont)"
   ]
  },
  {
   "cell_type": "code",
   "execution_count": 12,
   "id": "d89b45e5-8bb3-430a-a286-316b8c7ee99b",
   "metadata": {},
   "outputs": [],
   "source": [
    "# Exercise 2\n",
    "\n"
   ]
  },
  {
   "cell_type": "code",
   "execution_count": null,
   "id": "16e1c25f-13de-4b0d-959e-5307401ec9b9",
   "metadata": {},
   "outputs": [],
   "source": []
  }
 ],
 "metadata": {
  "kernelspec": {
   "display_name": "Python 3 (ipykernel)",
   "language": "python",
   "name": "python3"
  },
  "language_info": {
   "codemirror_mode": {
    "name": "ipython",
    "version": 3
   },
   "file_extension": ".py",
   "mimetype": "text/x-python",
   "name": "python",
   "nbconvert_exporter": "python",
   "pygments_lexer": "ipython3",
   "version": "3.12.7"
  }
 },
 "nbformat": 4,
 "nbformat_minor": 5
}
