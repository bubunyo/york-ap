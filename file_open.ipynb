{
 "cells": [
  {
   "cell_type": "code",
   "execution_count": 1,
   "id": "0d834c56-a329-4c99-8c3f-063e32376a3b",
   "metadata": {},
   "outputs": [],
   "source": [
    "file = open(\"pop_goes_the_weasel.txt\", \"r+\")"
   ]
  },
  {
   "cell_type": "code",
   "execution_count": 2,
   "id": "b4582be1-7c76-4db7-bc74-f858c19cd208",
   "metadata": {},
   "outputs": [
    {
     "data": {
      "text/plain": [
       "0"
      ]
     },
     "execution_count": 2,
     "metadata": {},
     "output_type": "execute_result"
    }
   ],
   "source": [
    "file.tell()"
   ]
  },
  {
   "cell_type": "code",
   "execution_count": 3,
   "id": "2ebb474a-f46b-4320-acc0-265bcd0d0455",
   "metadata": {},
   "outputs": [
    {
     "ename": "AttributeError",
     "evalue": "'_io.TextIOWrapper' object has no attribute 'line'",
     "output_type": "error",
     "traceback": [
      "\u001b[0;31m---------------------------------------------------------------------------\u001b[0m",
      "\u001b[0;31mAttributeError\u001b[0m                            Traceback (most recent call last)",
      "Cell \u001b[0;32mIn[3], line 1\u001b[0m\n\u001b[0;32m----> 1\u001b[0m \u001b[43mfile\u001b[49m\u001b[38;5;241;43m.\u001b[39;49m\u001b[43mline\u001b[49m()\n",
      "\u001b[0;31mAttributeError\u001b[0m: '_io.TextIOWrapper' object has no attribute 'line'"
     ]
    }
   ],
   "source": [
    "file.line()"
   ]
  },
  {
   "cell_type": "code",
   "execution_count": 4,
   "id": "e74673fc-cacd-4497-a828-dc7969b9b4fe",
   "metadata": {},
   "outputs": [
    {
     "data": {
      "text/plain": [
       "<_io.TextIOWrapper name='pop_goes_the_weasel.txt' mode='r+' encoding='UTF-8'>"
      ]
     },
     "execution_count": 4,
     "metadata": {},
     "output_type": "execute_result"
    }
   ],
   "source": [
    "file"
   ]
  },
  {
   "cell_type": "code",
   "execution_count": 5,
   "id": "67e586ad-840f-49bb-8cff-14985938a05e",
   "metadata": {},
   "outputs": [
    {
     "name": "stdout",
     "output_type": "stream",
     "text": [
      "File pointer:  0\n"
     ]
    }
   ],
   "source": [
    "print(\"File pointer: \", file.tell())"
   ]
  },
  {
   "cell_type": "code",
   "execution_count": 6,
   "id": "80ef69d8-3ddc-4662-9a61-1a43a4d0ea80",
   "metadata": {},
   "outputs": [
    {
     "name": "stdout",
     "output_type": "stream",
     "text": [
      "Half a pound of tuppenny rice,\n",
      "\n",
      "Half a pound of treacle.\n",
      "\n",
      "All the king's horses and all the king's men\n",
      "\n",
      "Couldn't put Humpty together again.\n",
      "\n"
     ]
    }
   ],
   "source": [
    "for line in file:\n",
    "    print(line)"
   ]
  },
  {
   "cell_type": "code",
   "execution_count": 7,
   "id": "2cdfbac0-2b1a-4691-8a53-a1c1cdec2c71",
   "metadata": {},
   "outputs": [
    {
     "name": "stdout",
     "output_type": "stream",
     "text": [
      "File pointer:  137\n"
     ]
    }
   ],
   "source": [
    "print(\"File pointer: \", file.tell())"
   ]
  },
  {
   "cell_type": "code",
   "execution_count": 8,
   "id": "56ca4bf0-634a-41a8-85d3-7e474670827d",
   "metadata": {},
   "outputs": [
    {
     "data": {
      "text/plain": [
       "56"
      ]
     },
     "execution_count": 8,
     "metadata": {},
     "output_type": "execute_result"
    }
   ],
   "source": [
    "file.seek(56,0)"
   ]
  },
  {
   "cell_type": "code",
   "execution_count": null,
   "id": "d6b66f3f-ab9e-4f5a-bbfd-f2fa651b129e",
   "metadata": {},
   "outputs": [],
   "source": []
  }
 ],
 "metadata": {
  "kernelspec": {
   "display_name": "Python 3 (ipykernel)",
   "language": "python",
   "name": "python3"
  },
  "language_info": {
   "codemirror_mode": {
    "name": "ipython",
    "version": 3
   },
   "file_extension": ".py",
   "mimetype": "text/x-python",
   "name": "python",
   "nbconvert_exporter": "python",
   "pygments_lexer": "ipython3",
   "version": "3.12.7"
  }
 },
 "nbformat": 4,
 "nbformat_minor": 5
}
