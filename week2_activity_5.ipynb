{
 "cells": [
  {
   "cell_type": "code",
   "execution_count": 13,
   "id": "2da534a5-39c3-4c2f-b494-09620744034c",
   "metadata": {},
   "outputs": [],
   "source": [
    "import json\n",
    "\n",
    "file = open(\"People.json\", 'r')\n",
    "data = json.load(file)\n",
    "file.close()"
   ]
  },
  {
   "cell_type": "code",
   "execution_count": 21,
   "id": "c7681cc6-b1b6-4f13-9085-02907082a7a5",
   "metadata": {},
   "outputs": [],
   "source": [
    "import xml.etree.ElementTree as ET\n",
    "from xml.dom import minidom"
   ]
  },
  {
   "cell_type": "code",
   "execution_count": 44,
   "id": "7ee5a414-e233-4f3e-b3b4-ea29a5fa8deb",
   "metadata": {},
   "outputs": [],
   "source": [
    "def build_tree(element, data):\n",
    "    if isinstance(data, dict):\n",
    "        for key, value in data.items():\n",
    "            child = ET.SubElement(element, key)\n",
    "            build_tree(child, value)\n",
    "    elif isinstance(data, list):\n",
    "        for item in data:\n",
    "            child = ET.SubElement(element, \"item\")\n",
    "            build_tree(child, item)\n",
    "    else:\n",
    "        element.text = str(data)\n",
    "\n",
    "root = ET.Element(\"People\")\n",
    "build_tree(root, data)\n",
    "\n",
    "raw_xml = ET.tostring(root, encoding=\"unicode\")\n",
    "parsed_xml = minidom.parseString(raw_xml)           \n",
    "pretty_xml = parsed_xml.toprettyxml(indent=\"  \")\n",
    "\n",
    "with open(\"People.xml\", \"w\", encoding=\"utf-8\") as file:\n",
    "    file.write(pretty_xml)"
   ]
  },
  {
   "cell_type": "code",
   "execution_count": null,
   "id": "95ae0f06-84f7-440d-86bb-b280b53da963",
   "metadata": {},
   "outputs": [],
   "source": []
  }
 ],
 "metadata": {
  "kernelspec": {
   "display_name": "Python 3 (ipykernel)",
   "language": "python",
   "name": "python3"
  },
  "language_info": {
   "codemirror_mode": {
    "name": "ipython",
    "version": 3
   },
   "file_extension": ".py",
   "mimetype": "text/x-python",
   "name": "python",
   "nbconvert_exporter": "python",
   "pygments_lexer": "ipython3",
   "version": "3.12.7"
  }
 },
 "nbformat": 4,
 "nbformat_minor": 5
}
