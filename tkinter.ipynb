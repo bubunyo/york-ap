{
 "cells": [
  {
   "cell_type": "code",
   "execution_count": 12,
   "id": "ae2cf0db-2f98-4559-898b-0486c666fc89",
   "metadata": {},
   "outputs": [],
   "source": [
    "import tkinter as tk\n",
    "from tkinter import ttk\n",
    "window = tk.Tk()\n",
    "window.title(\"Grid Layout\")\n",
    "window.geometry(\"400x200\")\n",
    "\n",
    "''\n",
    "# generate 12 labels each with the same attributes,\n",
    "# in the same row, in consecutive columns\n",
    "for i in range(0,12):\n",
    " ttk.Label(window, text='A'+str(i), anchor=\"center\", foreground='SteelBlue', background='LightGray').grid (row=0, column=i, sticky='NSEW')\n",
    " window.grid_columnconfigure(i,weight=1)\n",
    "# generate 6 labels each spanning 2 columns\n",
    "for i in range(0,6):\n",
    "   ttk.Label(window, text='B'+str(i), anchor=\"center\").grid(column=i+(1*i), columnspan=2, sticky='NSEW')\n",
    "\n",
    "# a single label spanning all 12 columns\n",
    "ttk.Label(window, text='C'+str(i), anchor=\"center\").grid(row=2, column=0, columnspan=12, sticky='NSEW')\n",
    "\n",
    "# rowconfigure and colconfigure weight set to 1 to give equal priority when window adjusted in size\n",
    "window.grid_rowconfigure(0, weight=1)\n",
    "window.grid_rowconfigure(1, weight=1)\n",
    "window.grid_rowconfigure(2, weight=1)\n",
    "\n",
    "window.mainloop()"
   ]
  },
  {
   "cell_type": "code",
   "execution_count": 4,
   "id": "60f06c4d-490a-42a1-a4a5-fd4a5efa6273",
   "metadata": {},
   "outputs": [],
   "source": [
    "import tkinter as tk\n",
    "from tkinter import ttk\n",
    "window = tk.Tk()\n",
    "window.title(\"Place Layout\")\n",
    "window.geometry(\"400x200\")\n",
    "\n",
    "''\n",
    "label1 = ttk.Label(window, text='A1')\n",
    "label2 = ttk.Label(window, text='A2')\n",
    "label3 = ttk.Label(window, text='A3')\n",
    "label4 = ttk.Label(window, text='A4')\n",
    "label1.place(height=150, width=100, x=0, y=0)\n",
    "label2.place(height=100, width=50, x=150, y=100)\n",
    "label3.place(height=50, width=50, x=175, y=125)\n",
    "label4.place(x=300, y=150)\n",
    "window.mainloop()"
   ]
  },
  {
   "cell_type": "code",
   "execution_count": null,
   "id": "730e9029-7ca6-4ad0-aa64-a17ef5152fa1",
   "metadata": {},
   "outputs": [],
   "source": []
  }
 ],
 "metadata": {
  "kernelspec": {
   "display_name": "venv",
   "language": "python",
   "name": "venv"
  },
  "language_info": {
   "codemirror_mode": {
    "name": "ipython",
    "version": 3
   },
   "file_extension": ".py",
   "mimetype": "text/x-python",
   "name": "python",
   "nbconvert_exporter": "python",
   "pygments_lexer": "ipython3",
   "version": "3.13.0"
  }
 },
 "nbformat": 4,
 "nbformat_minor": 5
}
